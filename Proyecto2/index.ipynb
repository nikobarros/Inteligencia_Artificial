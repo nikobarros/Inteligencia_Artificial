{
 "cells": [
  {
   "cell_type": "markdown",
   "id": "922d3176",
   "metadata": {},
   "source": [
    "# Detección de transacciones fraudulentas"
   ]
  },
  {
   "cell_type": "markdown",
   "id": "34308e3a",
   "metadata": {},
   "source": [
    "## Uso de librerías"
   ]
  },
  {
   "cell_type": "code",
   "execution_count": 9,
   "id": "2acd15a4",
   "metadata": {},
   "outputs": [],
   "source": [
    "import pandas as pd\n",
    "from sklearn.preprocessing import StandardScaler, RobustScaler\n",
    "import numpy as np\n",
    "from sklearn.compose import ColumnTransformer\n",
    "from sklearn.model_selection import train_test_split\n",
    "from sklearn.feature_selection import SequentialFeatureSelector\n",
    "from sklearn.ensemble import RandomForestClassifier\n"
   ]
  },
  {
   "cell_type": "markdown",
   "id": "1846b8fd",
   "metadata": {},
   "source": [
    "## Entrada y exploración de datos"
   ]
  },
  {
   "cell_type": "code",
   "execution_count": null,
   "id": "f795994e",
   "metadata": {},
   "outputs": [
    {
     "ename": "FileNotFoundError",
     "evalue": "[Errno 2] No such file or directory: 'creditcard.csv'",
     "output_type": "error",
     "traceback": [
      "\u001b[31m---------------------------------------------------------------------------\u001b[39m",
      "\u001b[31mFileNotFoundError\u001b[39m                         Traceback (most recent call last)",
      "\u001b[36mCell\u001b[39m\u001b[36m \u001b[39m\u001b[32mIn[2]\u001b[39m\u001b[32m, line 1\u001b[39m\n\u001b[32m----> \u001b[39m\u001b[32m1\u001b[39m df = \u001b[43mpd\u001b[49m\u001b[43m.\u001b[49m\u001b[43mread_csv\u001b[49m\u001b[43m(\u001b[49m\u001b[33;43m'\u001b[39;49m\u001b[33;43mcreditcard.csv\u001b[39;49m\u001b[33;43m'\u001b[39;49m\u001b[43m,\u001b[49m\u001b[43m \u001b[49m\u001b[43mdtype\u001b[49m\u001b[43m=\u001b[49m\u001b[43m{\u001b[49m\u001b[33;43m'\u001b[39;49m\u001b[33;43mcolumn_name\u001b[39;49m\u001b[33;43m'\u001b[39;49m\u001b[43m:\u001b[49m\u001b[43m \u001b[49m\u001b[33;43m'\u001b[39;49m\u001b[33;43mstring\u001b[39;49m\u001b[33;43m'\u001b[39;49m\u001b[43m}\u001b[49m\u001b[43m)\u001b[49m\n\u001b[32m      2\u001b[39m df.head()\n",
      "\u001b[36mFile \u001b[39m\u001b[32mc:\\Users\\none\\AppData\\Local\\Programs\\Python\\Python313\\Lib\\site-packages\\pandas\\io\\parsers\\readers.py:1026\u001b[39m, in \u001b[36mread_csv\u001b[39m\u001b[34m(filepath_or_buffer, sep, delimiter, header, names, index_col, usecols, dtype, engine, converters, true_values, false_values, skipinitialspace, skiprows, skipfooter, nrows, na_values, keep_default_na, na_filter, verbose, skip_blank_lines, parse_dates, infer_datetime_format, keep_date_col, date_parser, date_format, dayfirst, cache_dates, iterator, chunksize, compression, thousands, decimal, lineterminator, quotechar, quoting, doublequote, escapechar, comment, encoding, encoding_errors, dialect, on_bad_lines, delim_whitespace, low_memory, memory_map, float_precision, storage_options, dtype_backend)\u001b[39m\n\u001b[32m   1013\u001b[39m kwds_defaults = _refine_defaults_read(\n\u001b[32m   1014\u001b[39m     dialect,\n\u001b[32m   1015\u001b[39m     delimiter,\n\u001b[32m   (...)\u001b[39m\u001b[32m   1022\u001b[39m     dtype_backend=dtype_backend,\n\u001b[32m   1023\u001b[39m )\n\u001b[32m   1024\u001b[39m kwds.update(kwds_defaults)\n\u001b[32m-> \u001b[39m\u001b[32m1026\u001b[39m \u001b[38;5;28;01mreturn\u001b[39;00m \u001b[43m_read\u001b[49m\u001b[43m(\u001b[49m\u001b[43mfilepath_or_buffer\u001b[49m\u001b[43m,\u001b[49m\u001b[43m \u001b[49m\u001b[43mkwds\u001b[49m\u001b[43m)\u001b[49m\n",
      "\u001b[36mFile \u001b[39m\u001b[32mc:\\Users\\none\\AppData\\Local\\Programs\\Python\\Python313\\Lib\\site-packages\\pandas\\io\\parsers\\readers.py:620\u001b[39m, in \u001b[36m_read\u001b[39m\u001b[34m(filepath_or_buffer, kwds)\u001b[39m\n\u001b[32m    617\u001b[39m _validate_names(kwds.get(\u001b[33m\"\u001b[39m\u001b[33mnames\u001b[39m\u001b[33m\"\u001b[39m, \u001b[38;5;28;01mNone\u001b[39;00m))\n\u001b[32m    619\u001b[39m \u001b[38;5;66;03m# Create the parser.\u001b[39;00m\n\u001b[32m--> \u001b[39m\u001b[32m620\u001b[39m parser = \u001b[43mTextFileReader\u001b[49m\u001b[43m(\u001b[49m\u001b[43mfilepath_or_buffer\u001b[49m\u001b[43m,\u001b[49m\u001b[43m \u001b[49m\u001b[43m*\u001b[49m\u001b[43m*\u001b[49m\u001b[43mkwds\u001b[49m\u001b[43m)\u001b[49m\n\u001b[32m    622\u001b[39m \u001b[38;5;28;01mif\u001b[39;00m chunksize \u001b[38;5;129;01mor\u001b[39;00m iterator:\n\u001b[32m    623\u001b[39m     \u001b[38;5;28;01mreturn\u001b[39;00m parser\n",
      "\u001b[36mFile \u001b[39m\u001b[32mc:\\Users\\none\\AppData\\Local\\Programs\\Python\\Python313\\Lib\\site-packages\\pandas\\io\\parsers\\readers.py:1620\u001b[39m, in \u001b[36mTextFileReader.__init__\u001b[39m\u001b[34m(self, f, engine, **kwds)\u001b[39m\n\u001b[32m   1617\u001b[39m     \u001b[38;5;28mself\u001b[39m.options[\u001b[33m\"\u001b[39m\u001b[33mhas_index_names\u001b[39m\u001b[33m\"\u001b[39m] = kwds[\u001b[33m\"\u001b[39m\u001b[33mhas_index_names\u001b[39m\u001b[33m\"\u001b[39m]\n\u001b[32m   1619\u001b[39m \u001b[38;5;28mself\u001b[39m.handles: IOHandles | \u001b[38;5;28;01mNone\u001b[39;00m = \u001b[38;5;28;01mNone\u001b[39;00m\n\u001b[32m-> \u001b[39m\u001b[32m1620\u001b[39m \u001b[38;5;28mself\u001b[39m._engine = \u001b[38;5;28;43mself\u001b[39;49m\u001b[43m.\u001b[49m\u001b[43m_make_engine\u001b[49m\u001b[43m(\u001b[49m\u001b[43mf\u001b[49m\u001b[43m,\u001b[49m\u001b[43m \u001b[49m\u001b[38;5;28;43mself\u001b[39;49m\u001b[43m.\u001b[49m\u001b[43mengine\u001b[49m\u001b[43m)\u001b[49m\n",
      "\u001b[36mFile \u001b[39m\u001b[32mc:\\Users\\none\\AppData\\Local\\Programs\\Python\\Python313\\Lib\\site-packages\\pandas\\io\\parsers\\readers.py:1880\u001b[39m, in \u001b[36mTextFileReader._make_engine\u001b[39m\u001b[34m(self, f, engine)\u001b[39m\n\u001b[32m   1878\u001b[39m     \u001b[38;5;28;01mif\u001b[39;00m \u001b[33m\"\u001b[39m\u001b[33mb\u001b[39m\u001b[33m\"\u001b[39m \u001b[38;5;129;01mnot\u001b[39;00m \u001b[38;5;129;01min\u001b[39;00m mode:\n\u001b[32m   1879\u001b[39m         mode += \u001b[33m\"\u001b[39m\u001b[33mb\u001b[39m\u001b[33m\"\u001b[39m\n\u001b[32m-> \u001b[39m\u001b[32m1880\u001b[39m \u001b[38;5;28mself\u001b[39m.handles = \u001b[43mget_handle\u001b[49m\u001b[43m(\u001b[49m\n\u001b[32m   1881\u001b[39m \u001b[43m    \u001b[49m\u001b[43mf\u001b[49m\u001b[43m,\u001b[49m\n\u001b[32m   1882\u001b[39m \u001b[43m    \u001b[49m\u001b[43mmode\u001b[49m\u001b[43m,\u001b[49m\n\u001b[32m   1883\u001b[39m \u001b[43m    \u001b[49m\u001b[43mencoding\u001b[49m\u001b[43m=\u001b[49m\u001b[38;5;28;43mself\u001b[39;49m\u001b[43m.\u001b[49m\u001b[43moptions\u001b[49m\u001b[43m.\u001b[49m\u001b[43mget\u001b[49m\u001b[43m(\u001b[49m\u001b[33;43m\"\u001b[39;49m\u001b[33;43mencoding\u001b[39;49m\u001b[33;43m\"\u001b[39;49m\u001b[43m,\u001b[49m\u001b[43m \u001b[49m\u001b[38;5;28;43;01mNone\u001b[39;49;00m\u001b[43m)\u001b[49m\u001b[43m,\u001b[49m\n\u001b[32m   1884\u001b[39m \u001b[43m    \u001b[49m\u001b[43mcompression\u001b[49m\u001b[43m=\u001b[49m\u001b[38;5;28;43mself\u001b[39;49m\u001b[43m.\u001b[49m\u001b[43moptions\u001b[49m\u001b[43m.\u001b[49m\u001b[43mget\u001b[49m\u001b[43m(\u001b[49m\u001b[33;43m\"\u001b[39;49m\u001b[33;43mcompression\u001b[39;49m\u001b[33;43m\"\u001b[39;49m\u001b[43m,\u001b[49m\u001b[43m \u001b[49m\u001b[38;5;28;43;01mNone\u001b[39;49;00m\u001b[43m)\u001b[49m\u001b[43m,\u001b[49m\n\u001b[32m   1885\u001b[39m \u001b[43m    \u001b[49m\u001b[43mmemory_map\u001b[49m\u001b[43m=\u001b[49m\u001b[38;5;28;43mself\u001b[39;49m\u001b[43m.\u001b[49m\u001b[43moptions\u001b[49m\u001b[43m.\u001b[49m\u001b[43mget\u001b[49m\u001b[43m(\u001b[49m\u001b[33;43m\"\u001b[39;49m\u001b[33;43mmemory_map\u001b[39;49m\u001b[33;43m\"\u001b[39;49m\u001b[43m,\u001b[49m\u001b[43m \u001b[49m\u001b[38;5;28;43;01mFalse\u001b[39;49;00m\u001b[43m)\u001b[49m\u001b[43m,\u001b[49m\n\u001b[32m   1886\u001b[39m \u001b[43m    \u001b[49m\u001b[43mis_text\u001b[49m\u001b[43m=\u001b[49m\u001b[43mis_text\u001b[49m\u001b[43m,\u001b[49m\n\u001b[32m   1887\u001b[39m \u001b[43m    \u001b[49m\u001b[43merrors\u001b[49m\u001b[43m=\u001b[49m\u001b[38;5;28;43mself\u001b[39;49m\u001b[43m.\u001b[49m\u001b[43moptions\u001b[49m\u001b[43m.\u001b[49m\u001b[43mget\u001b[49m\u001b[43m(\u001b[49m\u001b[33;43m\"\u001b[39;49m\u001b[33;43mencoding_errors\u001b[39;49m\u001b[33;43m\"\u001b[39;49m\u001b[43m,\u001b[49m\u001b[43m \u001b[49m\u001b[33;43m\"\u001b[39;49m\u001b[33;43mstrict\u001b[39;49m\u001b[33;43m\"\u001b[39;49m\u001b[43m)\u001b[49m\u001b[43m,\u001b[49m\n\u001b[32m   1888\u001b[39m \u001b[43m    \u001b[49m\u001b[43mstorage_options\u001b[49m\u001b[43m=\u001b[49m\u001b[38;5;28;43mself\u001b[39;49m\u001b[43m.\u001b[49m\u001b[43moptions\u001b[49m\u001b[43m.\u001b[49m\u001b[43mget\u001b[49m\u001b[43m(\u001b[49m\u001b[33;43m\"\u001b[39;49m\u001b[33;43mstorage_options\u001b[39;49m\u001b[33;43m\"\u001b[39;49m\u001b[43m,\u001b[49m\u001b[43m \u001b[49m\u001b[38;5;28;43;01mNone\u001b[39;49;00m\u001b[43m)\u001b[49m\u001b[43m,\u001b[49m\n\u001b[32m   1889\u001b[39m \u001b[43m\u001b[49m\u001b[43m)\u001b[49m\n\u001b[32m   1890\u001b[39m \u001b[38;5;28;01massert\u001b[39;00m \u001b[38;5;28mself\u001b[39m.handles \u001b[38;5;129;01mis\u001b[39;00m \u001b[38;5;129;01mnot\u001b[39;00m \u001b[38;5;28;01mNone\u001b[39;00m\n\u001b[32m   1891\u001b[39m f = \u001b[38;5;28mself\u001b[39m.handles.handle\n",
      "\u001b[36mFile \u001b[39m\u001b[32mc:\\Users\\none\\AppData\\Local\\Programs\\Python\\Python313\\Lib\\site-packages\\pandas\\io\\common.py:873\u001b[39m, in \u001b[36mget_handle\u001b[39m\u001b[34m(path_or_buf, mode, encoding, compression, memory_map, is_text, errors, storage_options)\u001b[39m\n\u001b[32m    868\u001b[39m \u001b[38;5;28;01melif\u001b[39;00m \u001b[38;5;28misinstance\u001b[39m(handle, \u001b[38;5;28mstr\u001b[39m):\n\u001b[32m    869\u001b[39m     \u001b[38;5;66;03m# Check whether the filename is to be opened in binary mode.\u001b[39;00m\n\u001b[32m    870\u001b[39m     \u001b[38;5;66;03m# Binary mode does not support 'encoding' and 'newline'.\u001b[39;00m\n\u001b[32m    871\u001b[39m     \u001b[38;5;28;01mif\u001b[39;00m ioargs.encoding \u001b[38;5;129;01mand\u001b[39;00m \u001b[33m\"\u001b[39m\u001b[33mb\u001b[39m\u001b[33m\"\u001b[39m \u001b[38;5;129;01mnot\u001b[39;00m \u001b[38;5;129;01min\u001b[39;00m ioargs.mode:\n\u001b[32m    872\u001b[39m         \u001b[38;5;66;03m# Encoding\u001b[39;00m\n\u001b[32m--> \u001b[39m\u001b[32m873\u001b[39m         handle = \u001b[38;5;28;43mopen\u001b[39;49m\u001b[43m(\u001b[49m\n\u001b[32m    874\u001b[39m \u001b[43m            \u001b[49m\u001b[43mhandle\u001b[49m\u001b[43m,\u001b[49m\n\u001b[32m    875\u001b[39m \u001b[43m            \u001b[49m\u001b[43mioargs\u001b[49m\u001b[43m.\u001b[49m\u001b[43mmode\u001b[49m\u001b[43m,\u001b[49m\n\u001b[32m    876\u001b[39m \u001b[43m            \u001b[49m\u001b[43mencoding\u001b[49m\u001b[43m=\u001b[49m\u001b[43mioargs\u001b[49m\u001b[43m.\u001b[49m\u001b[43mencoding\u001b[49m\u001b[43m,\u001b[49m\n\u001b[32m    877\u001b[39m \u001b[43m            \u001b[49m\u001b[43merrors\u001b[49m\u001b[43m=\u001b[49m\u001b[43merrors\u001b[49m\u001b[43m,\u001b[49m\n\u001b[32m    878\u001b[39m \u001b[43m            \u001b[49m\u001b[43mnewline\u001b[49m\u001b[43m=\u001b[49m\u001b[33;43m\"\u001b[39;49m\u001b[33;43m\"\u001b[39;49m\u001b[43m,\u001b[49m\n\u001b[32m    879\u001b[39m \u001b[43m        \u001b[49m\u001b[43m)\u001b[49m\n\u001b[32m    880\u001b[39m     \u001b[38;5;28;01melse\u001b[39;00m:\n\u001b[32m    881\u001b[39m         \u001b[38;5;66;03m# Binary mode\u001b[39;00m\n\u001b[32m    882\u001b[39m         handle = \u001b[38;5;28mopen\u001b[39m(handle, ioargs.mode)\n",
      "\u001b[31mFileNotFoundError\u001b[39m: [Errno 2] No such file or directory: 'creditcard.csv'"
     ]
    }
   ],
   "source": [
    "df = pd.read_csv('dataset/creditcard.csv', dtype={'column_name': 'string'})\n",
    "df.head()"
   ]
  },
  {
   "cell_type": "code",
   "execution_count": null,
   "id": "adb3d4c6",
   "metadata": {},
   "outputs": [
    {
     "name": "stdout",
     "output_type": "stream",
     "text": [
      "Información del dataset:\n",
      "Dimensiones: (284807, 31)\n",
      "Distribución de clases: Class\n",
      "0    284315\n",
      "1       492\n",
      "Name: count, dtype: int64\n",
      "Porcentaje de fraude: 0.1727%\n",
      "\n",
      "Valores nulos: 0\n"
     ]
    }
   ],
   "source": [
    "print(\"Información del dataset:\")\n",
    "print(f\"Dimensiones: {df.shape}\")\n",
    "print(f\"Distribución de clases: {df['Class'].value_counts()}\")\n",
    "print(f\"Porcentaje de fraude: {df['Class'].mean()*100:.4f}%\")\n",
    "print(f\"\\nValores nulos: {df.isnull().sum().sum()}\")"
   ]
  },
  {
   "cell_type": "markdown",
   "id": "5b831a68",
   "metadata": {},
   "source": [
    "## Preprocesamiento de datos"
   ]
  },
  {
   "cell_type": "markdown",
   "id": "f71eac48",
   "metadata": {},
   "source": [
    "### Escalar datos"
   ]
  },
  {
   "cell_type": "code",
   "execution_count": null,
   "id": "eeb818ed",
   "metadata": {},
   "outputs": [
    {
     "name": "stdout",
     "output_type": "stream",
     "text": [
      "VERIFICACIÓN DE COMPONENTES PCA:\n",
      "==================================================\n",
      "V1: Media =   0.0000, Std =   1.9587\n",
      "V2: Media =   0.0000, Std =   1.6513\n",
      "V3: Media =  -0.0000, Std =   1.5163\n",
      "V4: Media =   0.0000, Std =   1.4159\n",
      "V5: Media =   0.0000, Std =   1.3802\n",
      "V6: Media =   0.0000, Std =   1.3323\n",
      "V7: Media =  -0.0000, Std =   1.2371\n",
      "V8: Media =   0.0000, Std =   1.1944\n",
      "V9: Media =  -0.0000, Std =   1.0986\n",
      "V10: Media =   0.0000, Std =   1.0888\n",
      "V11: Media =   0.0000, Std =   1.0207\n",
      "V12: Media =  -0.0000, Std =   0.9992\n",
      "V13: Media =   0.0000, Std =   0.9953\n",
      "V14: Media =   0.0000, Std =   0.9586\n",
      "V15: Media =   0.0000, Std =   0.9153\n",
      "V16: Media =   0.0000, Std =   0.8763\n",
      "V17: Media =  -0.0000, Std =   0.8493\n",
      "V18: Media =   0.0000, Std =   0.8382\n",
      "V19: Media =   0.0000, Std =   0.8140\n",
      "V20: Media =   0.0000, Std =   0.7709\n",
      "V21: Media =   0.0000, Std =   0.7345\n",
      "V22: Media =  -0.0000, Std =   0.7257\n",
      "V23: Media =   0.0000, Std =   0.6245\n",
      "V24: Media =   0.0000, Std =   0.6056\n",
      "V25: Media =   0.0000, Std =   0.5213\n",
      "V26: Media =   0.0000, Std =   0.4822\n",
      "V27: Media =  -0.0000, Std =   0.4036\n",
      "V28: Media =  -0.0000, Std =   0.3301\n"
     ]
    }
   ],
   "source": [
    "columnas_pca = [f'V{i}' for i in range(1, 29)]\n",
    "\n",
    "print(\"VERIFICACIÓN DE COMPONENTES PCA:\")\n",
    "print(\"=\" * 50)\n",
    "\n",
    "for col in columnas_pca:\n",
    "    media = df[col].mean()\n",
    "    std = df[col].std()\n",
    "    print(f\"{col}: Media = {media:8.4f}, Std = {std:8.4f}\")"
   ]
  },
  {
   "cell_type": "code",
   "execution_count": null,
   "id": "2c164e8a",
   "metadata": {},
   "outputs": [
    {
     "name": "stdout",
     "output_type": "stream",
     "text": [
      "\n",
      "ESTADÍSTICAS GENERALES PCA:\n",
      "Rango de medias: [-0.0000, 0.0000]\n",
      "Rango de std: [0.3301, 1.9587]\n"
     ]
    }
   ],
   "source": [
    "# Verificación general\n",
    "print(f\"\\nESTADÍSTICAS GENERALES PCA:\")\n",
    "print(f\"Rango de medias: [{df[columnas_pca].mean().min():.4f}, {df[columnas_pca].mean().max():.4f}]\")\n",
    "print(f\"Rango de std: [{df[columnas_pca].std().min():.4f}, {df[columnas_pca].std().max():.4f}]\")"
   ]
  },
  {
   "cell_type": "markdown",
   "id": "2a7d9582",
   "metadata": {},
   "source": [
    "Dado que las medias son igual a 0, en el caso de las variables PCA, pero sus desviaciones estándar no son iguales, se necesita escalar esos datos sin centrar."
   ]
  },
  {
   "cell_type": "code",
   "execution_count": null,
   "id": "aaa67fcf",
   "metadata": {},
   "outputs": [
    {
     "name": "stdout",
     "output_type": "stream",
     "text": [
      "🎯 ESTRATEGIA APLICADA:\n",
      "   - V1-V28: StandardScaler(with_mean=False) → Solo escalar\n",
      "   - Time: RobustScaler → Manejar outliers temporales\n",
      "   - Amount: RobustScaler → Manejar outliers monetarios\n"
     ]
    }
   ],
   "source": [
    "escalado_sin_centrar = StandardScaler(with_mean=False)\n",
    "\n",
    "preprocesador_optimo = ColumnTransformer([\n",
    "    # PCA: Solo escalar, no centrar (ya están centradas)\n",
    "    ('pca_features', escalado_sin_centrar, [f'V{i}' for i in range(1, 29)]),\n",
    "    \n",
    "    # Time y Amount: RobustScaler completo\n",
    "    ('robust_features', RobustScaler(), ['Time', 'Amount'])\n",
    "])\n",
    "\n",
    "print(\"ESTRATEGIA APLICADA:\")\n",
    "print(\"   - V1-V28: StandardScaler(with_mean=False) → Solo escalar\")\n",
    "print(\"   - Time: RobustScaler → Manejar outliers temporales\")  \n",
    "print(\"   - Amount: RobustScaler → Manejar outliers monetarios\")"
   ]
  },
  {
   "cell_type": "code",
   "execution_count": null,
   "id": "0a7ca20c",
   "metadata": {},
   "outputs": [
    {
     "name": "stdout",
     "output_type": "stream",
     "text": [
      "📊 VERIFICACIÓN POST-ESCALADO:\n",
      "Componentes PCA después del escalado:\n",
      "V1     1.000002\n",
      "V2     1.000002\n",
      "V3     1.000002\n",
      "V4     1.000002\n",
      "V5     1.000002\n",
      "V6     1.000002\n",
      "V7     1.000002\n",
      "V8     1.000002\n",
      "V9     1.000002\n",
      "V10    1.000002\n",
      "V11    1.000002\n",
      "V12    1.000002\n",
      "V13    1.000002\n",
      "V14    1.000002\n",
      "V15    1.000002\n",
      "V16    1.000002\n",
      "V17    1.000002\n",
      "V18    1.000002\n",
      "V19    1.000002\n",
      "V20    1.000002\n",
      "V21    1.000002\n",
      "V22    1.000002\n",
      "V23    1.000002\n",
      "V24    1.000002\n",
      "V25    1.000002\n",
      "V26    1.000002\n",
      "V27    1.000002\n",
      "V28    1.000002\n",
      "dtype: float64\n"
     ]
    }
   ],
   "source": [
    "# Aplicar el preprocesamiento\n",
    "X_escalado = preprocesador_optimo.fit_transform(df.drop('Class', axis=1))\n",
    "\n",
    "# Convertir a DataFrame para verificación\n",
    "columnas_escaladas = [f'V{i}' for i in range(1, 29)] + ['Time', 'Amount']\n",
    "df_verificacion = pd.DataFrame(X_escalado, columns=columnas_escaladas)\n",
    "\n",
    "print(\"📊 VERIFICACIÓN POST-ESCALADO:\")\n",
    "print(\"Componentes PCA después del escalado:\")\n",
    "print(df_verificacion[[f'V{i}' for i in range(1, 29)]].std())"
   ]
  },
  {
   "cell_type": "markdown",
   "id": "abc4b879",
   "metadata": {},
   "source": [
    "### Dividir el conjunto de datos"
   ]
  },
  {
   "cell_type": "code",
   "execution_count": null,
   "id": "ff928a0b",
   "metadata": {},
   "outputs": [
    {
     "name": "stdout",
     "output_type": "stream",
     "text": [
      "✅ DIVISIÓN ESTRATIFICADA 70-30:\n",
      "Dataset original - Clase 1: 0.0017%\n",
      "Train - Clase 1: 0.0017%\n",
      "Test - Clase 1: 0.0017%\n"
     ]
    }
   ],
   "source": [
    "X = df.drop('Class', axis=1)\n",
    "y = df['Class']  \n",
    "\n",
    "X_train, X_test, y_train, y_test = train_test_split(\n",
    "    X, y,\n",
    "    test_size=0.3,\n",
    "    stratify=y,\n",
    "    random_state=42\n",
    ")\n",
    "\n",
    "print(\"DIVISIÓN ESTRATIFICADA 70-30:\")\n",
    "print(f\"Dataset original - Clase 1: {y.mean():.4f}%\")\n",
    "print(f\"Train - Clase 1: {y_train.mean():.4f}%\")\n",
    "print(f\"Test - Clase 1: {y_test.mean():.4f}%\")"
   ]
  },
  {
   "cell_type": "markdown",
   "id": "1f0ff2ad",
   "metadata": {},
   "source": [
    "## Selección de características"
   ]
  },
  {
   "cell_type": "code",
   "execution_count": null,
   "id": "f86086d8",
   "metadata": {},
   "outputs": [
    {
     "name": "stdout",
     "output_type": "stream",
     "text": [
      "📊 Shape de X_train preprocesado: (199364, 30)\n",
      "📊 Shape de X_test preprocesado: (85443, 30)\n"
     ]
    }
   ],
   "source": [
    "X_train_preprocesado = preprocesador_optimo.fit_transform(X_train)\n",
    "X_test_preprocesado = preprocesador_optimo.transform(X_test)\n",
    "\n",
    "# Nombres de las características después del preprocesamiento\n",
    "nombres_caracteristicas = [f'V{i}' for i in range(1, 29)] + ['Time', 'Amount']\n",
    "\n",
    "print(f\"📊 Shape de X_train preprocesado: {X_train_preprocesado.shape}\")\n",
    "print(f\"📊 Shape de X_test preprocesado: {X_test_preprocesado.shape}\")\n"
   ]
  },
  {
   "cell_type": "code",
   "execution_count": null,
   "id": "ea6057c5",
   "metadata": {},
   "outputs": [
    {
     "name": "stdout",
     "output_type": "stream",
     "text": [
      "🚀 Ejecutando Sequential Forward Selection...\n",
      "✅ SFS COMPLETADO!\n"
     ]
    }
   ],
   "source": [
    "# 2. Configurar Sequential Forward Selection\n",
    "sfs_selector = SequentialFeatureSelector(\n",
    "    estimator=RandomForestClassifier(\n",
    "        n_estimators=15,\n",
    "        class_weight='balanced',\n",
    "        random_state=42\n",
    "    ),\n",
    "    n_features_to_select=10,  # Seleccionar el 50% de características\n",
    "    direction='forward',\n",
    "    scoring='recall',  # 🎯 Optimizar para detectar fraudes\n",
    "    cv=3,              # Menos folds para mayor velocidad\n",
    "    n_jobs=-1\n",
    ")\n",
    "\n",
    "print(\"🚀 Ejecutando Sequential Forward Selection...\")\n",
    "sfs_selector.fit(X_train_preprocesado, y_train)\n",
    "\n",
    "# 3. Obtener características seleccionadas\n",
    "caracteristicas_seleccionadas = sfs_selector.get_support()\n",
    "indices_seleccionados = np.where(caracteristicas_seleccionadas)[0]\n",
    "\n",
    "print(\"✅ SFS COMPLETADO!\")"
   ]
  },
  {
   "cell_type": "code",
   "execution_count": null,
   "id": "f752de57",
   "metadata": {},
   "outputs": [
    {
     "name": "stdout",
     "output_type": "stream",
     "text": [
      "[False  True False False False False False False  True False False  True\n",
      " False  True  True  True  True False False False False  True  True False\n",
      " False False False False False  True]\n"
     ]
    }
   ],
   "source": [
    "print(caracteristicas_seleccionadas)"
   ]
  },
  {
   "cell_type": "code",
   "execution_count": null,
   "id": "106b0783",
   "metadata": {},
   "outputs": [
    {
     "name": "stdout",
     "output_type": "stream",
     "text": [
      "[ 1  8 11 13 14 15 16 21 22 29]\n"
     ]
    }
   ],
   "source": [
    "print(indices_seleccionados)"
   ]
  },
  {
   "cell_type": "code",
   "execution_count": 3,
   "id": "8b713e7c",
   "metadata": {},
   "outputs": [
    {
     "ename": "NameError",
     "evalue": "name 'indices_seleccionados' is not defined",
     "output_type": "error",
     "traceback": [
      "\u001b[31m---------------------------------------------------------------------------\u001b[39m",
      "\u001b[31mNameError\u001b[39m                                 Traceback (most recent call last)",
      "\u001b[36mCell\u001b[39m\u001b[36m \u001b[39m\u001b[32mIn[3]\u001b[39m\u001b[32m, line 2\u001b[39m\n\u001b[32m      1\u001b[39m \u001b[38;5;66;03m# Mapear índices a nombres de características\u001b[39;00m\n\u001b[32m----> \u001b[39m\u001b[32m2\u001b[39m caracteristicas_seleccionadas_nombres = [nombres_caracteristicas[i] \u001b[38;5;28;01mfor\u001b[39;00m i \u001b[38;5;129;01min\u001b[39;00m \u001b[43mindices_seleccionados\u001b[49m]\n\u001b[32m      4\u001b[39m \u001b[38;5;28mprint\u001b[39m(\u001b[33m\"\u001b[39m\u001b[33m🎯 VECTOR FINAL DE CARACTERÍSTICAS SELECCIONADAS\u001b[39m\u001b[33m\"\u001b[39m)\n\u001b[32m      5\u001b[39m \u001b[38;5;28mprint\u001b[39m(\u001b[33m\"\u001b[39m\u001b[33m=\u001b[39m\u001b[33m\"\u001b[39m * \u001b[32m50\u001b[39m)\n",
      "\u001b[31mNameError\u001b[39m: name 'indices_seleccionados' is not defined"
     ]
    }
   ],
   "source": [
    "# Mapear índices a nombres de características\n",
    "caracteristicas_seleccionadas_nombres = [nombres_caracteristicas[i] for i in indices_seleccionados]\n",
    "\n",
    "print(\"🎯 VECTOR FINAL DE CARACTERÍSTICAS SELECCIONADAS\")\n",
    "print(\"=\" * 50)\n",
    "print(f\"Total de características: {len(nombres_caracteristicas)}\")\n",
    "print(f\"Características seleccionadas: {len(caracteristicas_seleccionadas_nombres)}\")\n",
    "print(f\"Características descartadas: {len(nombres_caracteristicas) - len(caracteristicas_seleccionadas_nombres)}\")\n"
   ]
  },
  {
   "cell_type": "code",
   "execution_count": 7,
   "id": "e8dee4f3",
   "metadata": {},
   "outputs": [
    {
     "name": "stdout",
     "output_type": "stream",
     "text": [
      "\n",
      "✅ CARACTERÍSTICAS SELECCIONADAS POR SFS:\n"
     ]
    },
    {
     "ename": "NameError",
     "evalue": "name 'indices_seleccionados' is not defined",
     "output_type": "error",
     "traceback": [
      "\u001b[31m---------------------------------------------------------------------------\u001b[39m",
      "\u001b[31mNameError\u001b[39m                                 Traceback (most recent call last)",
      "\u001b[36mCell\u001b[39m\u001b[36m \u001b[39m\u001b[32mIn[7]\u001b[39m\u001b[32m, line 2\u001b[39m\n\u001b[32m      1\u001b[39m \u001b[38;5;28mprint\u001b[39m(\u001b[33mf\u001b[39m\u001b[33m\"\u001b[39m\u001b[38;5;130;01m\\n\u001b[39;00m\u001b[33m✅ CARACTERÍSTICAS SELECCIONADAS POR SFS:\u001b[39m\u001b[33m\"\u001b[39m)\n\u001b[32m----> \u001b[39m\u001b[32m2\u001b[39m \u001b[38;5;28;01mfor\u001b[39;00m i, (idx, caracteristica) \u001b[38;5;129;01min\u001b[39;00m \u001b[38;5;28menumerate\u001b[39m(\u001b[38;5;28mzip\u001b[39m(\u001b[43mindices_seleccionados\u001b[49m, caracteristicas_seleccionadas_nombres), \u001b[32m1\u001b[39m):\n\u001b[32m      3\u001b[39m     \u001b[38;5;28mprint\u001b[39m(\u001b[33mf\u001b[39m\u001b[33m\"\u001b[39m\u001b[33m   \u001b[39m\u001b[38;5;132;01m{\u001b[39;00mi\u001b[38;5;132;01m:\u001b[39;00m\u001b[33m2d\u001b[39m\u001b[38;5;132;01m}\u001b[39;00m\u001b[33m. \u001b[39m\u001b[38;5;132;01m{\u001b[39;00mcaracteristica\u001b[38;5;132;01m}\u001b[39;00m\u001b[33m (Índice: \u001b[39m\u001b[38;5;132;01m{\u001b[39;00midx\u001b[38;5;132;01m}\u001b[39;00m\u001b[33m)\u001b[39m\u001b[33m\"\u001b[39m)\n\u001b[32m      5\u001b[39m \u001b[38;5;28mprint\u001b[39m(\u001b[33mf\u001b[39m\u001b[33m\"\u001b[39m\u001b[38;5;130;01m\\n\u001b[39;00m\u001b[33m📊 Características seleccionadas por tipo:\u001b[39m\u001b[33m\"\u001b[39m)\n",
      "\u001b[31mNameError\u001b[39m: name 'indices_seleccionados' is not defined"
     ]
    }
   ],
   "source": [
    "print(f\"\\n✅ CARACTERÍSTICAS SELECCIONADAS POR SFS:\")\n",
    "for i, (idx, caracteristica) in enumerate(zip(indices_seleccionados, caracteristicas_seleccionadas_nombres), 1):\n",
    "    print(f\"   {i:2d}. {caracteristica} (Índice: {idx})\")\n",
    "\n",
    "print(f\"\\n📊 Características seleccionadas por tipo:\")\n",
    "pca_seleccionadas = [c for c in caracteristicas_seleccionadas_nombres if c.startswith('V')]\n",
    "otras_seleccionadas = [c for c in caracteristicas_seleccionadas_nombres if not c.startswith('V')]\n",
    "\n",
    "print(f\"   - Componentes PCA: {len(pca_seleccionadas)}\")\n",
    "print(f\"   - Otras variables: {len(otras_seleccionadas)}\")\n",
    "if otras_seleccionadas:\n",
    "    print(f\"     {otras_seleccionadas}\")\n"
   ]
  },
  {
   "cell_type": "markdown",
   "id": "2f4c98d6",
   "metadata": {},
   "source": [
    "## Entrenamiento de clasificadores"
   ]
  },
  {
   "cell_type": "markdown",
   "id": "1a9dfe89",
   "metadata": {},
   "source": [
    "## Búsqueda y selección de hiperparámetros"
   ]
  },
  {
   "cell_type": "markdown",
   "id": "5eb17374",
   "metadata": {},
   "source": [
    "## Evaluar el desempeño de los modelos"
   ]
  },
  {
   "cell_type": "markdown",
   "id": "d39a712a",
   "metadata": {},
   "source": []
  }
 ],
 "metadata": {
  "kernelspec": {
   "display_name": "Python 3",
   "language": "python",
   "name": "python3"
  },
  "language_info": {
   "codemirror_mode": {
    "name": "ipython",
    "version": 3
   },
   "file_extension": ".py",
   "mimetype": "text/x-python",
   "name": "python",
   "nbconvert_exporter": "python",
   "pygments_lexer": "ipython3",
   "version": "3.13.5"
  }
 },
 "nbformat": 4,
 "nbformat_minor": 5
}
